{
 "cells": [
  {
   "cell_type": "markdown",
   "metadata": {},
   "source": [
    "# INTERACTIVE PLOTS"
   ]
  },
  {
   "cell_type": "code",
   "execution_count": null,
   "metadata": {},
   "outputs": [],
   "source": [
    "import pandas as pd\n",
    "import numpy as np\n",
    "import os\n",
    "import ipywidgets as widgets\n",
    "from ipywidgets import interact\n",
    "import configparser\n",
    "import boto3\n",
    "import tqdm\n",
    "from tqdm import tqdm\n",
    "import s3fs\n",
    "\n",
    "import sys\n",
    "if sys.version_info[0] < 3: \n",
    "    from StringIO import StringIO # Python 2.x\n",
    "else:\n",
    "    from io import StringIO # Python 3.x\n",
    "\n",
    "import matplotlib.pyplot as plt\n",
    "from IPython.display import display\n",
    "from IPython.display import HTML\n",
    "from pandas.plotting import register_matplotlib_converters\n",
    "register_matplotlib_converters()\n",
    "%matplotlib inline"
   ]
  },
  {
   "cell_type": "markdown",
   "metadata": {},
   "source": [
    "### AWS S3 CSV"
   ]
  },
  {
   "cell_type": "code",
   "execution_count": null,
   "metadata": {},
   "outputs": [],
   "source": [
    "#Assign credentials\n",
    "config = configparser.ConfigParser()\n",
    "config.read_file(open('credential.cfg'))\n",
    "AWS_KEY = config.get(\"S3\",\"KEY\")\n",
    "AWS_SECRET = config.get(\"S3\",\"SECRET\")"
   ]
  },
  {
   "cell_type": "code",
   "execution_count": null,
   "metadata": {},
   "outputs": [],
   "source": [
    "#Create s3 client with credentials\n",
    "client = boto3.client('s3', \n",
    "                      region_name='us-east-2',\n",
    "                     aws_access_key_id = AWS_KEY,\n",
    "                     aws_secret_access_key = AWS_SECRET)"
   ]
  },
  {
   "cell_type": "code",
   "execution_count": null,
   "metadata": {},
   "outputs": [],
   "source": [
    "#Read all files in bucket\n",
    "\n",
    "path_root = 'ROOT_PATH'\n",
    "prefix = 'FOLDER_NAME'\n",
    "\n",
    "# Create a reusable Paginator\n",
    "paginator = client.get_paginator('list_objects')\n",
    "\n",
    "# Create a PageIterator from the Paginator\n",
    "page_iterator = paginator.paginate(Bucket=path_root)\n",
    "    \n",
    "file_keys = []\n",
    "for page in page_iterator:\n",
    "    #print(page['Contents'])\n",
    "    for file in page['Contents']:\n",
    "        #print(file['Key'])\n",
    "        file_keys.append(file['Key'])\n",
    "\n",
    "files = []\n",
    "\n",
    "for file_key in file_keys:\n",
    "    if prefix in file_key:\n",
    "        files.append(file_key)\n",
    "        print(file_key)\n",
    "    else:\n",
    "        pass\n",
    "\n",
    "print('{} files'.format(len(files)))"
   ]
  },
  {
   "cell_type": "code",
   "execution_count": null,
   "metadata": {},
   "outputs": [],
   "source": [
    "#READ CSV to DF\n",
    "bucket_name = path_root\n",
    "\n",
    "object_key = '{}'.format(files[0])\n",
    "csv_obj = client.get_object(Bucket=bucket_name, Key=object_key)\n",
    "body = csv_obj['Body']\n",
    "csv_string = body.read().decode('utf-8')\n",
    "\n",
    "df = pd.read_csv(StringIO(csv_string))"
   ]
  },
  {
   "cell_type": "markdown",
   "metadata": {},
   "source": [
    "### LOCAL CSV"
   ]
  },
  {
   "cell_type": "code",
   "execution_count": null,
   "metadata": {},
   "outputs": [],
   "source": [
    "df = pd.read_csv('INSERT CSV')\n",
    "df.shape"
   ]
  },
  {
   "cell_type": "markdown",
   "metadata": {},
   "source": [
    "# SEARCH TABLE"
   ]
  },
  {
   "cell_type": "code",
   "execution_count": null,
   "metadata": {},
   "outputs": [],
   "source": [
    "def interactive_table(value):\n",
    "    return df.loc[df['value'] > value].head(10)\n",
    "\n",
    "interact(\n",
    "    interactive_table,\n",
    "    value = widgets.FloatSlider(\n",
    "                    value=0,\n",
    "                    min=0, # max exponent of base\n",
    "                    max=3, # min exponent of base\n",
    "                    step=0.005, # exponent step\n",
    "                    description='value'\n",
    "                ),\n",
    "    )"
   ]
  },
  {
   "cell_type": "markdown",
   "metadata": {},
   "source": [
    "# RUNCHARTS"
   ]
  },
  {
   "cell_type": "code",
   "execution_count": null,
   "metadata": {},
   "outputs": [],
   "source": [
    "def runcharts(test_param):\n",
    "    fig= plt.figure(figsize=(11,4))\n",
    "    df_plt = df[df['test_param'] == test_param]\n",
    "    x=df_plt['date']\n",
    "    y=df_plt['value']\n",
    "    plt.scatter(x,y)\n",
    "    return df_plt.head(10)\n",
    "    \n",
    "interact(\n",
    "    runcharts,\n",
    "    test_param = widgets.Dropdown(\n",
    "            options=list(set(df['test_param'])),\n",
    "            value=''\n",
    "            ),\n",
    "    )"
   ]
  },
  {
   "cell_type": "code",
   "execution_count": null,
   "metadata": {},
   "outputs": [],
   "source": []
  }
 ],
 "metadata": {
  "kernelspec": {
   "display_name": "Python 3",
   "language": "python",
   "name": "python3"
  },
  "language_info": {
   "codemirror_mode": {
    "name": "ipython",
    "version": 3
   },
   "file_extension": ".py",
   "mimetype": "text/x-python",
   "name": "python",
   "nbconvert_exporter": "python",
   "pygments_lexer": "ipython3",
   "version": "3.7.3"
  }
 },
 "nbformat": 4,
 "nbformat_minor": 4
}
