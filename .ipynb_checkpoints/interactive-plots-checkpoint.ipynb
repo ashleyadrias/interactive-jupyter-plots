{
 "cells": [
  {
   "cell_type": "markdown",
   "metadata": {},
   "source": [
    "# INTERACTIVE PLOTS"
   ]
  },
  {
   "cell_type": "code",
   "execution_count": null,
   "metadata": {},
   "outputs": [],
   "source": [
    "import pandas as pd\n",
    "import numpy as np\n",
    "\n",
    "import ipywidgets as widgets\n",
    "from ipywidgets import interact\n",
    "\n",
    "import matplotlib.pyplot as plt\n",
    "\n",
    "from IPython.display import display\n",
    "\n",
    "from IPython.display import HTML\n",
    "\n",
    "%matplotlib inline"
   ]
  },
  {
   "cell_type": "code",
   "execution_count": null,
   "metadata": {},
   "outputs": [],
   "source": [
    "df = pd.read_csv('INSERT CSV')\n",
    "df.shape"
   ]
  },
  {
   "cell_type": "markdown",
   "metadata": {},
   "source": [
    "# SEARCH TABLE"
   ]
  },
  {
   "cell_type": "code",
   "execution_count": null,
   "metadata": {},
   "outputs": [],
   "source": [
    "def interactive_table(value):\n",
    "    return df.loc[df['value'] > value].head(10)\n",
    "\n",
    "interact(\n",
    "    interactive_table,\n",
    "    value = widgets.FloatSlider(\n",
    "                    value=0,\n",
    "                    min=0, # max exponent of base\n",
    "                    max=3, # min exponent of base\n",
    "                    step=0.005, # exponent step\n",
    "                    description='value'\n",
    "                ),\n",
    "    )"
   ]
  },
  {
   "cell_type": "markdown",
   "metadata": {},
   "source": [
    "# RUNCHARTS"
   ]
  },
  {
   "cell_type": "code",
   "execution_count": null,
   "metadata": {},
   "outputs": [],
   "source": [
    "def runcharts(test_param):\n",
    "    fig= plt.figure(figsize=(11,4))\n",
    "    df_plt = df[df['test_param'] == test_param]\n",
    "    x=df_plt['date']\n",
    "    y=df_plt['value']\n",
    "    plt.scatter(x,y)\n",
    "    return df_plt.head(10)\n",
    "    \n",
    "interact(\n",
    "    runcharts,\n",
    "    test_param = widgets.Dropdown(\n",
    "            options=list(set(df['test_param'])),\n",
    "            value=''\n",
    "            ),\n",
    "    )"
   ]
  },
  {
   "cell_type": "code",
   "execution_count": null,
   "metadata": {},
   "outputs": [],
   "source": []
  }
 ],
 "metadata": {
  "kernelspec": {
   "display_name": "Python 3",
   "language": "python",
   "name": "python3"
  },
  "language_info": {
   "codemirror_mode": {
    "name": "ipython",
    "version": 3
   },
   "file_extension": ".py",
   "mimetype": "text/x-python",
   "name": "python",
   "nbconvert_exporter": "python",
   "pygments_lexer": "ipython3",
   "version": "3.7.3"
  }
 },
 "nbformat": 4,
 "nbformat_minor": 4
}
